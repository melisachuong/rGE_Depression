{
 "cells": [
  {
   "cell_type": "markdown",
   "metadata": {},
   "source": [
    "# Remove GS from Edu and height meta-analyses"
   ]
  },
  {
   "cell_type": "markdown",
   "metadata": {},
   "source": [
    "## EduYears phenotype in GS\n",
    "\n",
    "Education phenotype category, ISCED mapping (from [Okbay 2016](https://www.nature.com/articles/nature17671#additional-information)), and genotype sample information."
   ]
  },
  {
   "cell_type": "code",
   "execution_count": null,
   "metadata": {
    "vscode": {
     "languageId": "r"
    }
   },
   "outputs": [],
   "source": [
    "library(dplyr)\n",
    "library(readr)\n",
    "library(readxl)\n",
    "\n",
    "eduV2V5 <- read_csv(here::here(\"data/EducationV2V5merged.csv\"))\n",
    "fam <- read_table(here::here(\"data/QCdGS20K.fam\"), col_names = c(\"FID\", \"IID\", \"father\", \"mother\", \"sex\", \"pheno\"))\n",
    "isced <- read_excel(here::here(\"data/41586_2016_BFnature17671_MOESM49_ESM.xlsx\"), sheet = 2, skip = 1, n_max = 7)"
   ]
  },
  {
   "cell_type": "code",
   "execution_count": null,
   "metadata": {
    "vscode": {
     "languageId": "r"
    }
   },
   "outputs": [],
   "source": [
    "eduyears <- eduV2V5 |>\n",
    "    inner_join(isced, by = c(\"years_category\" = \"ISCED Level\")) |>\n",
    "    inner_join(fam, by = c(\"id\" = \"IID\")) |>\n",
    "    select(FID, IID = id, EduYears = `US years of schooling (EduYears)`)\n",
    "\n",
    "write_tsv(eduyears, \"eduV2V5.pheno\")"
   ]
  },
  {
   "cell_type": "markdown",
   "metadata": {},
   "source": [
    "## Height phenotype in GS"
   ]
  },
  {
   "cell_type": "code",
   "execution_count": null,
   "metadata": {
    "vscode": {
     "languageId": "r"
    }
   },
   "outputs": [],
   "source": [
    "body <- read_csv(here::here(\"data/body.csv\"))\n",
    "\n",
    "body_height <-\n",
    "body |>\n",
    "    inner_join(fam, by = c(\"id\" = \"IID\")) |>\n",
    "    select(FID, IID = id, height)\n",
    "\n",
    "write_tsv(body_height, \"body.pheno\")"
   ]
  },
  {
   "cell_type": "markdown",
   "metadata": {},
   "source": [
    "## EraSOR\n",
    "\n",
    "Sumstats"
   ]
  },
  {
   "cell_type": "raw",
   "metadata": {
    "vscode": {
     "languageId": "raw"
    }
   },
   "source": [
    "# sumstats from Okbay (2022) doi:10.1038/s41588-022-01016-z\n",
    "gunzip -c ../data/sumstats/EA4_additive_excl_23andMe.txt.gz | awk -v OFS='\\t' '{print $1, $4, $5, $6, $7, $11}' > ../data/sumstats/EA4_additive_excl_23andMe.txt\n",
    "\n",
    "# sumstats from Yengo et al. Nature (2022) 10.1038/s41586-022-05275-y\n",
    "gunzip -c ../data/sumstats/GIANT_HEIGHT_YENGO_2022_GWAS_SUMMARY_STATS_EUR.gz | awk -v OFS='\\t' '{print $2, $5, $6, $7, $8, $10, $11}' > ../data/sumstats/GIANT_HEIGHT_YENGO_2022_GWAS_SUMMARY_STATS_EUR.txt\n",
    "\n",
    "# sumstats from GWAS on EduYears and height in GS\n",
    "for pheno in EduYears height; do\n",
    "    gunzip -c ../data/sumstats/GS20K_HRC.r1-1_nomono_I4-${pheno}-qt-QCdGS20K-rmUKBB.regenie.gz | awk -v OFS='\\t' '{if(NR == 1) {print $3, $4, $5, $6, $7, $8, $10, \"P\"} else {print $3, $4, $5, $6, $7, $8, $10, 10^(-$13)}}' > ../data/sumstats/GS20K_HRC.r1-1_nomono_I4-${pheno}-qt-QCdGS20K-rmUKBB.regenie.txt\n",
    "done"
   ]
  },
  {
   "cell_type": "markdown",
   "metadata": {},
   "source": [
    "Python environment and EraSOR repo"
   ]
  },
  {
   "cell_type": "raw",
   "metadata": {
    "vscode": {
     "languageId": "raw"
    }
   },
   "source": [
    "# create python environment\n",
    "python3 -m venv venv\n",
    "source venv/bin/activate\n",
    "pip3 install pandas==1.3.5\n",
    "pip3 install scipy==1.7.3\n",
    "\n",
    "# EraSOR https://choishingwan.gitlab.io/EraSOR/\n",
    "mkdir ../vendor\n",
    "git clone https://gitlab.com/choishingwan/EraSOR.git ../vendor/EraSOR"
   ]
  },
  {
   "cell_type": "markdown",
   "metadata": {},
   "source": [
    "Adjust EA4 sumstats for overlap with GS"
   ]
  },
  {
   "cell_type": "raw",
   "metadata": {
    "vscode": {
     "languageId": "raw"
    }
   },
   "source": [
    "python3 ../vendor/EraSOR/EraSOR.py \\\n",
    "--base ../data/sumstats/EA4_additive_excl_23andMe.txt \\\n",
    "--base-snp rsID \\\n",
    "--base-signed-sumstats Beta,0 \\\n",
    "--base-a1 Effect_allele \\\n",
    "--base-a2 Other_allele \\\n",
    "--base-p P_unadj \\\n",
    "--base-frq EAF_HRC \\\n",
    "--base-N 765283 \\\n",
    "--target ../data/sumstats/GS20K_HRC.r1-1_nomono_I4-EduYears-qt-QCdGS20K-rmUKBB.regenie.txt \\\n",
    "--target-snp ID \\\n",
    "--target-signed-sumstats BETA,0 \\\n",
    "--target-a1 ALLELE1 \\\n",
    "--target-a2 ALLELE0 \\\n",
    "--target-p P \\\n",
    "--target-N-col N \\\n",
    "--target-info INFO \\\n",
    "--target-frq A1FREQ \\\n",
    "--info-min 0.6 \\\n",
    "--maf-min 0.01 \\\n",
    "--ref-ld ../data/sumstats/UKBB.ALL.ldscore/UKBB.EUR.rsid \\\n",
    "--w-ld ../data/sumstats/UKBB.ALL.ldscore/UKBB.EUR.rsid \\\n",
    "--out EA4_EraSOR_noGenScot"
   ]
  },
  {
   "cell_type": "markdown",
   "metadata": {},
   "source": [
    "Adjust height sumstats for overlap with GS"
   ]
  },
  {
   "cell_type": "raw",
   "metadata": {
    "vscode": {
     "languageId": "raw"
    }
   },
   "source": [
    "python3 ../vendor/EraSOR/EraSOR.py \\\n",
    "--base ../data/sumstats/GIANT_HEIGHT_YENGO_2022_GWAS_SUMMARY_STATS_EUR.txt \\\n",
    "--base-snp RSID \\\n",
    "--base-signed-sumstats BETA,0 \\\n",
    "--base-a1 EFFECT_ALLELE \\\n",
    "--base-a2 OTHER_ALLELE \\\n",
    "--base-p P \\\n",
    "--base-frq EFFECT_ALLELE_FREQ \\\n",
    "--base-N-col N \\\n",
    "--target ../data/sumstats/GS20K_HRC.r1-1_nomono_I4-height-qt-QCdGS20K-rmUKBB.regenie.txt \\\n",
    "--target-snp ID \\\n",
    "--target-signed-sumstats BETA,0 \\\n",
    "--target-a1 ALLELE1 \\\n",
    "--target-a2 ALLELE0 \\\n",
    "--target-p P \\\n",
    "--target-N-col N \\\n",
    "--target-info INFO \\\n",
    "--target-frq A1FREQ \\\n",
    "--info-min 0.6 \\\n",
    "--maf-min 0.01 \\\n",
    "--ref-ld ../data/sumstats/UKBB.ALL.ldscore/UKBB.EUR.rsid \\\n",
    "--w-ld ../data/sumstats/UKBB.ALL.ldscore/UKBB.EUR.rsid \\\n",
    "--out height_Yengo2022_EraSOR_noGenScot"
   ]
  },
  {
   "cell_type": "markdown",
   "metadata": {},
   "source": [
    "Add chromosome and position back to adjusted sumstats"
   ]
  },
  {
   "cell_type": "code",
   "execution_count": null,
   "metadata": {
    "vscode": {
     "languageId": "r"
    }
   },
   "outputs": [],
   "source": [
    "library(dplyr)\n",
    "library(readr)\n",
    "\n",
    "ea4_erasor <- read_tsv(\"EA4_EraSOR_noGenScot.assoc.gz\")\n",
    "ea4 <- read_tsv(here::here(\"data/sumstats/EA4_additive_excl_23andMe.txt.gz\"))\n",
    "\n",
    "height_erasor <- read_tsv(\"height_Yengo2022_EraSOR_noGenScot.assoc.gz\")\n",
    "height <- read_tsv(here::here(\"data/sumstats/GIANT_HEIGHT_YENGO_2022_GWAS_SUMMARY_STATS_EUR.gz\"))"
   ]
  },
  {
   "cell_type": "code",
   "execution_count": 12,
   "metadata": {
    "vscode": {
     "languageId": "r"
    }
   },
   "outputs": [],
   "source": [
    "ea4_erasor_cp <-\n",
    "ea4 %>%\n",
    "    select(SNP = rsID, CHR = Chr, BP) %>%\n",
    "    inner_join(ea4_erasor, by = \"SNP\") |>\n",
    "    arrange(CHR, BP)\n",
    "\n",
    "height_erasor_cp <-\n",
    "height %>%\n",
    "    select(SNP = RSID, CHR, BP = POS) %>%\n",
    "    inner_join(height_erasor, by = \"SNP\") |>\n",
    "    arrange(CHR, BP)"
   ]
  },
  {
   "cell_type": "code",
   "execution_count": 14,
   "metadata": {
    "vscode": {
     "languageId": "r"
    }
   },
   "outputs": [],
   "source": [
    "write_tsv(ea4_erasor_cp, \"EA4_EraSOR_noGenScot.gz\")\n",
    "write_tsv(height_erasor_cp, \"height_Yengo2022_EraSOR_noGenScot.gz\")"
   ]
  }
 ],
 "metadata": {
  "kernelspec": {
   "display_name": "R",
   "language": "R",
   "name": "ir"
  },
  "language_info": {
   "codemirror_mode": "r",
   "file_extension": ".r",
   "mimetype": "text/x-r-source",
   "name": "R",
   "pygments_lexer": "r",
   "version": "4.0.5"
  }
 },
 "nbformat": 4,
 "nbformat_minor": 2
}
