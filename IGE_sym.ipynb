{
 "cells": [
  {
   "cell_type": "markdown",
   "id": "63d7be08",
   "metadata": {},
   "source": [
    "## Analysing genetic effect models using symbolic computations\n",
    "\n",
    "In addition to simulation and data analysis, genetic effects models can also be approached analytically with the aid of symbolic computation systems (doi:[10.1080/10705511.2024.2325122](https://doi.org/10.1080/10705511.2024.2325122), doi:[10.32614/rj-2023-090](https://doi.org/10.32614/rj-2023-090)). Here we use [SymPy](https://www.sympy.org) to encode a model symbolically and then explore it mathematically."
   ]
  },
  {
   "cell_type": "code",
   "execution_count": 452,
   "id": "7c286ca2",
   "metadata": {},
   "outputs": [],
   "source": [
    "# import required functions\n",
    "from sympy.stats import P, E, variance, covariance, correlation, Variance, Covariance\n",
    "from sympy import Symbol, symbols, sqrt, simplify, Matrix"
   ]
  },
  {
   "cell_type": "markdown",
   "id": "8a888a7e",
   "metadata": {},
   "source": [
    "### Model setup"
   ]
  },
  {
   "cell_type": "markdown",
   "id": "64ef001a",
   "metadata": {},
   "source": [
    "Encode additive genetic model with tagged and untagged genetic variance, plus environmental variance."
   ]
  },
  {
   "cell_type": "code",
   "execution_count": 363,
   "id": "b8ed6868",
   "metadata": {},
   "outputs": [],
   "source": [
    "Va_tagged = Symbol('V_at', positive = True)\n",
    "Va_untagged = Symbol('V_au', positive = True)\n",
    "Ve = Symbol('V_e', positive = True)"
   ]
  },
  {
   "cell_type": "markdown",
   "id": "6b2df493",
   "metadata": {},
   "source": [
    "The phenotypic variance is therefore"
   ]
  },
  {
   "cell_type": "code",
   "execution_count": 364,
   "id": "6b28265d",
   "metadata": {},
   "outputs": [
    {
     "data": {
      "text/latex": [
       "$\\displaystyle V_{at} + V_{au} + V_{e}$"
      ],
      "text/plain": [
       "V_at + V_au + V_e"
      ]
     },
     "execution_count": 364,
     "metadata": {},
     "output_type": "execute_result"
    }
   ],
   "source": [
    "Va_tagged + Va_untagged + Ve"
   ]
  },
  {
   "cell_type": "markdown",
   "id": "f7f8acd9",
   "metadata": {},
   "source": [
    "Create maternal and paternal / tagged and untagged genetic effects that are normally distributed with the specified standard deviations."
   ]
  },
  {
   "cell_type": "code",
   "execution_count": null,
   "id": "bb942d34",
   "metadata": {},
   "outputs": [],
   "source": [
    "# maternal and paternal tagged and untagged genetic effects\n",
    "\n",
    "# maternal tagged\n",
    "A_mt = Normal(\"A_mt\", 0, sqrt(Va_tagged))\n",
    "# maternal untagged\n",
    "A_mu = Normal(\"A_m_u\", 0, sqrt(Va_untagged))\n",
    "# paternal tagged\n",
    "A_pt = Normal(\"A_pt\", 0, sqrt(Va_tagged))\n",
    "# paternal untagged\n",
    "A_pu = Normal(\"A_pu\", 0, sqrt(Va_untagged))"
   ]
  },
  {
   "cell_type": "markdown",
   "id": "7077f577",
   "metadata": {},
   "source": [
    "The total genetic effects for each parent are the sums of the tagged and untagged effects"
   ]
  },
  {
   "cell_type": "code",
   "execution_count": 365,
   "id": "4e55f88b",
   "metadata": {},
   "outputs": [],
   "source": [
    "A_m = A_mt + A_mu\n",
    "A_p = A_pt + A_pu"
   ]
  },
  {
   "cell_type": "markdown",
   "id": "5aeb75be",
   "metadata": {},
   "source": [
    "Offspring genetic effects have two parts: the average of the parental effects plus segregation variance (half of $V_\\mathrm{A}$)."
   ]
  },
  {
   "cell_type": "code",
   "execution_count": 355,
   "id": "59dabe63",
   "metadata": {},
   "outputs": [],
   "source": [
    "# offspring\n",
    "# segregation variance (tagged and untagged)\n",
    "A_ots = Normal(\"A_ots\", 0, sqrt(Va_tagged/2))\n",
    "A_ous = Normal(\"A_ous\", 0, sqrt(Va_untagged/2))\n",
    "# average of parents plus segregation\n",
    "A_ot = (A_mt + A_pt)/2 + A_ots\n",
    "A_ou = (A_mu + A_pu)/2 + A_ous\n",
    "\n",
    "A_o = A_ot + A_ou"
   ]
  },
  {
   "cell_type": "markdown",
   "id": "81a9e075",
   "metadata": {},
   "source": [
    "Maternal, paternal, and offspring environment effects (assume uncorrelated in this model.)"
   ]
  },
  {
   "cell_type": "code",
   "execution_count": null,
   "id": "18e8e1bf",
   "metadata": {},
   "outputs": [],
   "source": [
    "# environment\n",
    "E_m = Normal(\"E_m\", 0, sqrt(Ve))\n",
    "E_p = Normal(\"E_p\", 0, sqrt(Ve))\n",
    "E_o = Normal(\"E_o\", 0, sqrt(Ve))\n"
   ]
  },
  {
   "cell_type": "markdown",
   "id": "fc0905a6",
   "metadata": {},
   "source": [
    "Add all effects together to make phenotypes."
   ]
  },
  {
   "cell_type": "code",
   "execution_count": 356,
   "id": "274fdc99",
   "metadata": {},
   "outputs": [],
   "source": [
    "# phenotypes\n",
    "P_m = A_m + E_m\n",
    "P_p = A_p + E_p\n",
    "P_o = A_o + E_o"
   ]
  },
  {
   "cell_type": "markdown",
   "id": "02a78181",
   "metadata": {},
   "source": [
    "Evaluate the phenotypic variances to check that the model was defined as expected."
   ]
  },
  {
   "cell_type": "code",
   "execution_count": 360,
   "id": "b8c10c09",
   "metadata": {},
   "outputs": [
    {
     "data": {
      "text/latex": [
       "$\\displaystyle V_{at} + V_{au} + V_{e}$"
      ],
      "text/plain": [
       "V_at + V_au + V_e"
      ]
     },
     "execution_count": 360,
     "metadata": {},
     "output_type": "execute_result"
    }
   ],
   "source": [
    "variance(P_m)"
   ]
  },
  {
   "cell_type": "code",
   "execution_count": null,
   "id": "7d3d63a5",
   "metadata": {},
   "outputs": [
    {
     "data": {
      "text/latex": [
       "$\\displaystyle V_{at} + V_{au} + V_{e}$"
      ],
      "text/plain": [
       "V_at + V_au + V_e"
      ]
     },
     "execution_count": 361,
     "metadata": {},
     "output_type": "execute_result"
    }
   ],
   "source": [
    "variance(P_p) "
   ]
  },
  {
   "cell_type": "code",
   "execution_count": 370,
   "id": "8b263e4b",
   "metadata": {},
   "outputs": [
    {
     "data": {
      "text/latex": [
       "$\\displaystyle V_{at} + V_{au} + V_{e}$"
      ],
      "text/plain": [
       "V_at + V_au + V_e"
      ]
     },
     "execution_count": 370,
     "metadata": {},
     "output_type": "execute_result"
    }
   ],
   "source": [
    "variance(P_o)"
   ]
  },
  {
   "cell_type": "markdown",
   "id": "fb8fba06",
   "metadata": {},
   "source": [
    "Finally, define additional symbols summarising variances:"
   ]
  },
  {
   "cell_type": "code",
   "execution_count": 397,
   "id": "d2cd6d79",
   "metadata": {},
   "outputs": [],
   "source": [
    "Vp = Symbol('V_p', positive = True)\n",
    "h2_snp = Symbol('h^2_SNP', positive = True)\n",
    "h2 = Symbol('h^2', positive = True)"
   ]
  },
  {
   "cell_type": "markdown",
   "id": "28136eab",
   "metadata": {},
   "source": [
    "### Exploring full and partial correlations"
   ]
  },
  {
   "cell_type": "markdown",
   "id": "56e648e9",
   "metadata": {},
   "source": [
    "As a basic exploration, we will look at the correlation between maternal and offspring phenotypes. The covariance is:"
   ]
  },
  {
   "cell_type": "code",
   "execution_count": 376,
   "id": "19e62c63",
   "metadata": {},
   "outputs": [
    {
     "data": {
      "text/latex": [
       "$\\displaystyle \\frac{V_{at}}{2} + \\frac{V_{au}}{2}$"
      ],
      "text/plain": [
       "V_at/2 + V_au/2"
      ]
     },
     "execution_count": 376,
     "metadata": {},
     "output_type": "execute_result"
    }
   ],
   "source": [
    "covariance(P_m, P_o)"
   ]
  },
  {
   "cell_type": "markdown",
   "id": "eaa6332b",
   "metadata": {},
   "source": [
    "while the correlation is"
   ]
  },
  {
   "cell_type": "code",
   "execution_count": 454,
   "id": "74765925",
   "metadata": {},
   "outputs": [
    {
     "data": {
      "text/latex": [
       "$\\displaystyle \\frac{\\frac{V_{at}}{2} + \\frac{V_{au}}{2}}{V_{at} + V_{au} + V_{e}}$"
      ],
      "text/plain": [
       "(V_at/2 + V_au/2)/(V_at + V_au + V_e)"
      ]
     },
     "execution_count": 454,
     "metadata": {},
     "output_type": "execute_result"
    }
   ],
   "source": [
    "mother_offspring_rp = correlation(P_m, P_o)\n",
    "mother_offspring_rp"
   ]
  },
  {
   "cell_type": "markdown",
   "id": "618878d2",
   "metadata": {},
   "source": [
    "If there is no untagged genetic variance (the tagged variance accounts for all of the additive genetic variance), the expected correlations is:"
   ]
  },
  {
   "cell_type": "code",
   "execution_count": 455,
   "id": "7db1c5ce",
   "metadata": {},
   "outputs": [
    {
     "data": {
      "text/latex": [
       "$\\displaystyle \\frac{V_{at}}{2 \\left(V_{at} + V_{e}\\right)}$"
      ],
      "text/plain": [
       "V_at/(2*(V_at + V_e))"
      ]
     },
     "execution_count": 455,
     "metadata": {},
     "output_type": "execute_result"
    }
   ],
   "source": [
    "mother_offspring_rp_Vau0 = mother_offspring_rp.subs(Va_untagged, 0)\n",
    "mother_offspring_rp_Vau0"
   ]
  },
  {
   "cell_type": "markdown",
   "id": "433bee5d",
   "metadata": {},
   "source": [
    "Express correlation in terms of phenotypic variance $V_p$ and SNP heritability $h^2_{SNP}$"
   ]
  },
  {
   "cell_type": "code",
   "execution_count": 398,
   "id": "f541d46f",
   "metadata": {},
   "outputs": [
    {
     "data": {
      "text/latex": [
       "$\\displaystyle \\frac{V_{at}}{2 V_{p}}$"
      ],
      "text/plain": [
       "V_at/(2*V_p)"
      ]
     },
     "execution_count": 398,
     "metadata": {},
     "output_type": "execute_result"
    }
   ],
   "source": [
    "mother_offspring_rp_Vau0_vp = mother_offspring_rp_Vau0.subs(Va_tagged + Ve, Vp)\n",
    "mother_offspring_rp_Vau0_vp"
   ]
  },
  {
   "cell_type": "code",
   "execution_count": 400,
   "id": "37be4e26",
   "metadata": {},
   "outputs": [
    {
     "data": {
      "text/latex": [
       "$\\displaystyle \\frac{h^{2}_{SNP}}{2}$"
      ],
      "text/plain": [
       "h^2_SNP/2"
      ]
     },
     "execution_count": 400,
     "metadata": {},
     "output_type": "execute_result"
    }
   ],
   "source": [
    "mother_offspring_rp_Vau0_vp.subs(Va_tagged / Vp, h2_snp)"
   ]
  },
  {
   "cell_type": "markdown",
   "id": "30f22805",
   "metadata": {},
   "source": [
    "Examine partial correlation between maternal and offspring phenotypes after controlling for tagged genetic effects. First, create a covariance matrix $\\Sigma$ for the maternal and offspring phenotypes and tagged genetic effects:"
   ]
  },
  {
   "cell_type": "code",
   "execution_count": 441,
   "id": "c6da3228",
   "metadata": {},
   "outputs": [
    {
     "data": {
      "text/latex": [
       "$\\displaystyle \\left[\\begin{matrix}V_{at} + V_{au} + V_{e} & \\frac{V_{at}}{2} + \\frac{V_{au}}{2} & V_{at} & \\frac{V_{at}}{2}\\\\\\frac{V_{at}}{2} + \\frac{V_{au}}{2} & V_{at} + V_{au} + V_{e} & \\frac{V_{at}}{2} & V_{at}\\\\V_{at} & \\frac{V_{at}}{2} & V_{at} & \\frac{V_{at}}{2}\\\\\\frac{V_{at}}{2} & V_{at} & \\frac{V_{at}}{2} & V_{at}\\end{matrix}\\right]$"
      ],
      "text/plain": [
       "Matrix([\n",
       "[V_at + V_au + V_e,   V_at/2 + V_au/2,   V_at, V_at/2],\n",
       "[  V_at/2 + V_au/2, V_at + V_au + V_e, V_at/2,   V_at],\n",
       "[             V_at,            V_at/2,   V_at, V_at/2],\n",
       "[           V_at/2,              V_at, V_at/2,   V_at]])"
      ]
     },
     "execution_count": 441,
     "metadata": {},
     "output_type": "execute_result"
    }
   ],
   "source": [
    "M = [P_m, P_o, A_mt, A_ot]\n",
    "Sigma = Matrix(len(M), len(M), lambda i,j: covariance(M[i], M[j]))\n",
    "Sigma"
   ]
  },
  {
   "cell_type": "markdown",
   "id": "1120d872",
   "metadata": {},
   "source": [
    "Calculate the precision matrix $\\Omega$ as the inverse of $\\Sigma$"
   ]
  },
  {
   "cell_type": "code",
   "execution_count": 442,
   "id": "776f2d9c",
   "metadata": {},
   "outputs": [
    {
     "data": {
      "text/latex": [
       "$\\displaystyle \\left[\\begin{matrix}\\frac{4 V_{au} + 4 V_{e}}{3 V_{au}^{2} + 8 V_{au} V_{e} + 4 V_{e}^{2}} & - \\frac{2 V_{au}}{3 V_{au}^{2} + 8 V_{au} V_{e} + 4 V_{e}^{2}} & \\frac{- 4 V_{au} - 4 V_{e}}{3 V_{au}^{2} + 8 V_{au} V_{e} + 4 V_{e}^{2}} & \\frac{2 V_{au}}{3 V_{au}^{2} + 8 V_{au} V_{e} + 4 V_{e}^{2}}\\\\- \\frac{2 V_{au}}{3 V_{au}^{2} + 8 V_{au} V_{e} + 4 V_{e}^{2}} & \\frac{4 V_{au} + 4 V_{e}}{3 V_{au}^{2} + 8 V_{au} V_{e} + 4 V_{e}^{2}} & \\frac{2 V_{au}}{3 V_{au}^{2} + 8 V_{au} V_{e} + 4 V_{e}^{2}} & \\frac{- 4 V_{au} - 4 V_{e}}{3 V_{au}^{2} + 8 V_{au} V_{e} + 4 V_{e}^{2}}\\\\\\frac{- 4 V_{au} - 4 V_{e}}{3 V_{au}^{2} + 8 V_{au} V_{e} + 4 V_{e}^{2}} & \\frac{2 V_{au}}{3 V_{au}^{2} + 8 V_{au} V_{e} + 4 V_{e}^{2}} & \\frac{12 V_{at} V_{au} + 12 V_{at} V_{e} + 12 V_{au}^{2} + 32 V_{au} V_{e} + 16 V_{e}^{2}}{9 V_{at} V_{au}^{2} + 24 V_{at} V_{au} V_{e} + 12 V_{at} V_{e}^{2}} & \\frac{- 6 V_{at} V_{au} - 6 V_{au}^{2} - 16 V_{au} V_{e} - 8 V_{e}^{2}}{9 V_{at} V_{au}^{2} + 24 V_{at} V_{au} V_{e} + 12 V_{at} V_{e}^{2}}\\\\\\frac{2 V_{au}}{3 V_{au}^{2} + 8 V_{au} V_{e} + 4 V_{e}^{2}} & \\frac{- 4 V_{au} - 4 V_{e}}{3 V_{au}^{2} + 8 V_{au} V_{e} + 4 V_{e}^{2}} & \\frac{- 6 V_{at} V_{au} - 6 V_{au}^{2} - 16 V_{au} V_{e} - 8 V_{e}^{2}}{9 V_{at} V_{au}^{2} + 24 V_{at} V_{au} V_{e} + 12 V_{at} V_{e}^{2}} & \\frac{12 V_{at} V_{au} + 12 V_{at} V_{e} + 12 V_{au}^{2} + 32 V_{au} V_{e} + 16 V_{e}^{2}}{9 V_{at} V_{au}^{2} + 24 V_{at} V_{au} V_{e} + 12 V_{at} V_{e}^{2}}\\end{matrix}\\right]$"
      ],
      "text/plain": [
       "Matrix([\n",
       "[ (4*V_au + 4*V_e)/(3*V_au**2 + 8*V_au*V_e + 4*V_e**2),           -2*V_au/(3*V_au**2 + 8*V_au*V_e + 4*V_e**2),                                                                    (-4*V_au - 4*V_e)/(3*V_au**2 + 8*V_au*V_e + 4*V_e**2),                                                                               2*V_au/(3*V_au**2 + 8*V_au*V_e + 4*V_e**2)],\n",
       "[          -2*V_au/(3*V_au**2 + 8*V_au*V_e + 4*V_e**2),  (4*V_au + 4*V_e)/(3*V_au**2 + 8*V_au*V_e + 4*V_e**2),                                                                               2*V_au/(3*V_au**2 + 8*V_au*V_e + 4*V_e**2),                                                                    (-4*V_au - 4*V_e)/(3*V_au**2 + 8*V_au*V_e + 4*V_e**2)],\n",
       "[(-4*V_au - 4*V_e)/(3*V_au**2 + 8*V_au*V_e + 4*V_e**2),            2*V_au/(3*V_au**2 + 8*V_au*V_e + 4*V_e**2), (12*V_at*V_au + 12*V_at*V_e + 12*V_au**2 + 32*V_au*V_e + 16*V_e**2)/(9*V_at*V_au**2 + 24*V_at*V_au*V_e + 12*V_at*V_e**2),                 (-6*V_at*V_au - 6*V_au**2 - 16*V_au*V_e - 8*V_e**2)/(9*V_at*V_au**2 + 24*V_at*V_au*V_e + 12*V_at*V_e**2)],\n",
       "[           2*V_au/(3*V_au**2 + 8*V_au*V_e + 4*V_e**2), (-4*V_au - 4*V_e)/(3*V_au**2 + 8*V_au*V_e + 4*V_e**2),                 (-6*V_at*V_au - 6*V_au**2 - 16*V_au*V_e - 8*V_e**2)/(9*V_at*V_au**2 + 24*V_at*V_au*V_e + 12*V_at*V_e**2), (12*V_at*V_au + 12*V_at*V_e + 12*V_au**2 + 32*V_au*V_e + 16*V_e**2)/(9*V_at*V_au**2 + 24*V_at*V_au*V_e + 12*V_at*V_e**2)]])"
      ]
     },
     "execution_count": 442,
     "metadata": {},
     "output_type": "execute_result"
    }
   ],
   "source": [
    "Omega = Sigma.inv()\n",
    "Omega"
   ]
  },
  {
   "cell_type": "markdown",
   "id": "1b28cb8a",
   "metadata": {},
   "source": [
    "The partial correlation between the maternal and offspring phenotypes ($P_m$ and $P_o$) accounting for the tagged genetic effects ($A_{m_t}$, $A_{o_t}$) listed $\\mathbf{M}$ is\n",
    "\n",
    "$$\n",
    "\\rho_{P_m P_o \\cdot \\mathbf{M}} = -\\frac{p_{P_mP_o}}{\\sqrt{p_{P_mP_m}p_{P_oP_o}}}\n",
    "$$\n",
    "\n",
    "$P_m$ and $P_o$ are the first and second elements in $\\Omega$, thus"
   ]
  },
  {
   "cell_type": "code",
   "execution_count": 482,
   "id": "9594b468",
   "metadata": {},
   "outputs": [],
   "source": [
    "def partial_corr(Omega, i, j):\n",
    "  rho = (-Omega[i,j] / sqrt(Omega[i,i] * Omega[j,j]))\n",
    "  return(rho)"
   ]
  },
  {
   "cell_type": "code",
   "execution_count": 483,
   "id": "44957dce",
   "metadata": {},
   "outputs": [
    {
     "data": {
      "text/latex": [
       "$\\displaystyle \\frac{V_{au}}{2 \\left(V_{au} + V_{e}\\right)}$"
      ],
      "text/plain": [
       "V_au/(2*(V_au + V_e))"
      ]
     },
     "execution_count": 483,
     "metadata": {},
     "output_type": "execute_result"
    }
   ],
   "source": [
    "mother_offspring_pheno_partial_corr = partial_corr(Omega, 0, 1)\n",
    "mother_offspring_pheno_partial_corr.simplify()"
   ]
  },
  {
   "cell_type": "markdown",
   "id": "3bf3867a",
   "metadata": {},
   "source": [
    "and the partial correlation would be positive"
   ]
  },
  {
   "cell_type": "code",
   "execution_count": 484,
   "id": "af4d1215",
   "metadata": {},
   "outputs": [
    {
     "data": {
      "text/latex": [
       "$\\displaystyle \\text{True}$"
      ],
      "text/plain": [
       "True"
      ]
     },
     "execution_count": 484,
     "metadata": {},
     "output_type": "execute_result"
    }
   ],
   "source": [
    "mother_offspring_pheno_partial_corr > 0"
   ]
  },
  {
   "cell_type": "markdown",
   "id": "4d2e315f",
   "metadata": {},
   "source": [
    "If instead the tagged genetic variance $V_{a_t}$ is 0, then the partial correlation between maternal and offspring phenotpyes controlling for tagged genetic effects is:"
   ]
  },
  {
   "cell_type": "code",
   "execution_count": 450,
   "id": "9d8dd9ef",
   "metadata": {},
   "outputs": [
    {
     "data": {
      "text/plain": [
       "True"
      ]
     },
     "execution_count": 450,
     "metadata": {},
     "output_type": "execute_result"
    }
   ],
   "source": [
    "mother_offspring_pheno_partial_corr.subs(Va_untagged, 0) == 0"
   ]
  },
  {
   "cell_type": "markdown",
   "id": "44e4cfe1",
   "metadata": {},
   "source": [
    "otherwise it is proportional to $V_{a_u}$, which could appear to be an nurturing effect. Similarly, the correlation between the offspring phenotype and the maternal tagged genetic effect is:"
   ]
  },
  {
   "cell_type": "code",
   "execution_count": 486,
   "id": "2adb21e7",
   "metadata": {},
   "outputs": [
    {
     "data": {
      "text/latex": [
       "$\\displaystyle \\frac{\\sqrt{V_{at}}}{2 \\sqrt{V_{at} + V_{au} + V_{e}}}$"
      ],
      "text/plain": [
       "sqrt(V_at)/(2*sqrt(V_at + V_au + V_e))"
      ]
     },
     "execution_count": 486,
     "metadata": {},
     "output_type": "execute_result"
    }
   ],
   "source": [
    "correlation(P_o, A_mt)"
   ]
  },
  {
   "cell_type": "markdown",
   "id": "a78418ef",
   "metadata": {},
   "source": [
    "while the partial correlation (controlling for maternal phenotype and offspring tagged genetic effect) is negative:"
   ]
  },
  {
   "cell_type": "code",
   "execution_count": 487,
   "id": "7aab7c64",
   "metadata": {},
   "outputs": [
    {
     "data": {
      "text/latex": [
       "$\\displaystyle \\text{True}$"
      ],
      "text/plain": [
       "True"
      ]
     },
     "execution_count": 487,
     "metadata": {},
     "output_type": "execute_result"
    }
   ],
   "source": [
    "# offspring phenotype = 2nd element, maternal tagged genetic effect = 3rd element of Omega\n",
    "partial_corr(Omega, 1, 2) < 0"
   ]
  },
  {
   "cell_type": "markdown",
   "id": "9f0716f1",
   "metadata": {},
   "source": [
    "### Conclusion"
   ]
  },
  {
   "cell_type": "markdown",
   "id": "81311fe5",
   "metadata": {},
   "source": [
    "Using symbolic computation to explore genetic models eases the gap between writing code and mathematical analysis."
   ]
  },
  {
   "cell_type": "markdown",
   "id": "12bb0c22",
   "metadata": {},
   "source": [
    "### Appendix"
   ]
  },
  {
   "cell_type": "markdown",
   "id": "cb7aa5d6",
   "metadata": {},
   "source": [
    "Instead of building the covariance matrix $\\Sigma$ using a `lambda` constructor looping over the indices of the matrix, it can also be calculated as the expectation of the multiplication of the transposed matrix with itself:"
   ]
  },
  {
   "cell_type": "code",
   "execution_count": 477,
   "id": "fd5ebf4f",
   "metadata": {},
   "outputs": [
    {
     "data": {
      "text/plain": [
       "True"
      ]
     },
     "execution_count": 477,
     "metadata": {},
     "output_type": "execute_result"
    }
   ],
   "source": [
    "# turn the list of variables into a matrix\n",
    "X = Matrix([M])\n",
    "# evaluating expection (E()) returns calculation in terms of variables variances\n",
    "S = E(X.T * X)\n",
    "# invert the matrix\n",
    "O = S.inv()\n",
    "# test that this is the same as the value of Omega\n",
    "O == Omega"
   ]
  }
 ],
 "metadata": {
  "kernelspec": {
   "display_name": "jupyter",
   "language": "python",
   "name": "python3"
  },
  "language_info": {
   "codemirror_mode": {
    "name": "ipython",
    "version": 3
   },
   "file_extension": ".py",
   "mimetype": "text/x-python",
   "name": "python",
   "nbconvert_exporter": "python",
   "pygments_lexer": "ipython3",
   "version": "3.11.0"
  }
 },
 "nbformat": 4,
 "nbformat_minor": 5
}
